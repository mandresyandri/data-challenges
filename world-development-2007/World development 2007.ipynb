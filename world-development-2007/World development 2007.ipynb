{
 "cells": [
  {
   "cell_type": "code",
   "execution_count": 40,
   "id": "1a817b07",
   "metadata": {},
   "outputs": [],
   "source": [
    "#!pip install Matplotlib\n",
    "import matplotlib.pyplot as plt\n",
    "import csv"
   ]
  },
  {
   "cell_type": "code",
   "execution_count": 29,
   "id": "60e871b2",
   "metadata": {},
   "outputs": [
    {
     "name": "stdout",
     "output_type": "stream",
     "text": [
      "143\n"
     ]
    }
   ],
   "source": [
    "with open('gapminder.csv') as file: \n",
    "    reader = csv.reader(file)\n",
    "    data = list(reader)\n",
    "print(len(data)) "
   ]
  },
  {
   "cell_type": "code",
   "execution_count": 37,
   "id": "3c7ca747",
   "metadata": {},
   "outputs": [
    {
     "name": "stdout",
     "output_type": "stream",
     "text": [
      "142\n",
      "142\n"
     ]
    }
   ],
   "source": [
    "# getting the useful data \n",
    "life_exp = list()\n",
    "for element in data:\n",
    "    life_exp.append(element[5])\n",
    "life_exp.pop(0)\n",
    "print(len(life_exp))\n",
    "    \n",
    "gdp_cap = list()\n",
    "for element in data: \n",
    "    gdp_cap.append(element[6])\n",
    "gdp_cap.pop(0)\n",
    "print(len(gdp_cap))"
   ]
  },
  {
   "cell_type": "code",
   "execution_count": 48,
   "id": "ca684b2a",
   "metadata": {},
   "outputs": [
    {
     "data": {
      "image/png": "[encoded data removed]",
      "text/plain": [
       "<Figure size 432x288 with 1 Axes>"
      ]
     },
     "metadata": {
      "needs_background": "light"
     },
     "output_type": "display_data"
    }
   ],
   "source": [
    "# displaying the data\n",
    "plt.scatter(gdp_cap, life_exp)\n",
    "plt.xlabel('GDP per Capita [in UDS]')\n",
    "plt.ylabel('Life Expectacy [in years]')\n",
    "#plt.xticks([1000, 10000, 100000], ['1K', '10K', '100K'])\n",
    "plt.yticks([])\n",
    "plt.show()"
   ]
  },
  {
   "cell_type": "code",
   "execution_count": null,
   "id": "7977f027",
   "metadata": {},
   "outputs": [],
   "source": []
  }
 ],
 "metadata": {
  "kernelspec": {
   "display_name": "Python 3 (ipykernel)",
   "language": "python",
   "name": "python3"
  },
  "language_info": {
   "codemirror_mode": {
    "name": "ipython",
    "version": 3
   },
   "file_extension": ".py",
   "mimetype": "text/x-python",
   "name": "python",
   "nbconvert_exporter": "python",
   "pygments_lexer": "ipython3",
   "version": "3.10.1"
  }
 },
 "nbformat": 4,
 "nbformat_minor": 5
}
