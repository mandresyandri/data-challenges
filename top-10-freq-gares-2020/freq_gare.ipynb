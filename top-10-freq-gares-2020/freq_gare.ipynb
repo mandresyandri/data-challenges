{
 "cells": [
  {
   "cell_type": "code",
   "execution_count": 55,
   "id": "197f02d7",
   "metadata": {},
   "outputs": [],
   "source": [
    "import csv\n",
    "import numpy as np"
   ]
  },
  {
   "cell_type": "code",
   "execution_count": 56,
   "id": "a8a6c44e",
   "metadata": {},
   "outputs": [],
   "source": [
    "# Get all data and transform it to a list \n",
    "with open('frequentation-gares.csv') as file:\n",
    "    reader = csv.reader(file)\n",
    "    data = list(reader)"
   ]
  },
  {
   "cell_type": "code",
   "execution_count": 57,
   "id": "1eebeeaf",
   "metadata": {},
   "outputs": [],
   "source": [
    "# Make the data usable\n",
    "cleaned_data = list()\n",
    "for element in data:\n",
    "    cleaned_data.append(element[0].split(';'))"
   ]
  },
  {
   "cell_type": "code",
   "execution_count": 70,
   "id": "47a9a2ae",
   "metadata": {},
   "outputs": [],
   "source": [
    "# Get the two important element\n",
    "# Set the x_label global\n",
    "x_label_global = list()\n",
    "for element in cleaned_data:\n",
    "    x_label_global.append(element[0])\n",
    "    \n",
    "# set the label\n",
    "y_label_global = list()\n",
    "for element in cleaned_data:\n",
    "    y_label_global.append(element[4])"
   ]
  },
  {
   "cell_type": "code",
   "execution_count": 75,
   "id": "bacb1959",
   "metadata": {},
   "outputs": [],
   "source": [
    "# make data usable with algo\n",
    "y_label_global = y_label_global[1:]\n",
    "y_stat_global = list()\n",
    "for element in y_label_global:\n",
    "    y_stat_global.append(int(element))"
   ]
  },
  {
   "cell_type": "code",
   "execution_count": 90,
   "id": "806ce6d5",
   "metadata": {},
   "outputs": [],
   "source": [
    "# algo to search the top 10 \n",
    "temp_base = list(range(1, 1000)) # temporary element to test the algo \n",
    "\n",
    "def get_hight(values, top):\n",
    "    temp_list = values\n",
    "    greatest = list()\n",
    "    while len(greatest) < top:\n",
    "        greatest.append(temp_list.index(max(temp_list)))\n",
    "        temp_list.remove(max(temp_list))\n",
    "    return greatest"
   ]
  },
  {
   "cell_type": "code",
   "execution_count": 95,
   "id": "b2e9eef7",
   "metadata": {},
   "outputs": [
    {
     "name": "stdout",
     "output_type": "stream",
     "text": [
      "[2172, 2764, 383, 1516, 1950, 842, 761, 1513, 1416, 2479]\n"
     ]
    }
   ],
   "source": [
    "temp_list = y_stat_global\n",
    "greatest = list()\n",
    "while len(greatest) < 10:\n",
    "    greatest.append(temp_list.index(max(temp_list)))\n",
    "    temp_list.remove(max(temp_list))\n",
    "print(greatest)"
   ]
  },
  {
   "cell_type": "code",
   "execution_count": 102,
   "id": "e07a2215",
   "metadata": {},
   "outputs": [
    {
     "name": "stdout",
     "output_type": "stream",
     "text": [
      "Paimpol\n"
     ]
    },
    {
     "data": {
      "text/plain": [
       "17198"
      ]
     },
     "execution_count": 102,
     "metadata": {},
     "output_type": "execute_result"
    }
   ],
   "source": [
    "# some bug in the algo\n",
    "name = x_label_global[1:]\n",
    "print(name[2172])\n",
    "y_stat_global[2172]"
   ]
  },
  {
   "cell_type": "code",
   "execution_count": null,
   "id": "a450e771",
   "metadata": {},
   "outputs": [],
   "source": []
  }
 ],
 "metadata": {
  "kernelspec": {
   "display_name": "Python 3 (ipykernel)",
   "language": "python",
   "name": "python3"
  },
  "language_info": {
   "codemirror_mode": {
    "name": "ipython",
    "version": 3
   },
   "file_extension": ".py",
   "mimetype": "text/x-python",
   "name": "python",
   "nbconvert_exporter": "python",
   "pygments_lexer": "ipython3",
   "version": "3.10.1"
  }
 },
 "nbformat": 4,
 "nbformat_minor": 5
}
